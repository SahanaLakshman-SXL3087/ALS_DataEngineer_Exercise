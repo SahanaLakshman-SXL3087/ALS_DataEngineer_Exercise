{
 "metadata": {
  "language_info": {
   "codemirror_mode": {
    "name": "ipython",
    "version": 3
   },
   "file_extension": ".py",
   "mimetype": "text/x-python",
   "name": "python",
   "nbconvert_exporter": "python",
   "pygments_lexer": "ipython3",
   "version": 3
  },
  "orig_nbformat": 2,
  "kernelspec": {
   "name": "python_defaultSpec_1596770769289",
   "display_name": "Python 3.7.3 64-bit ('.venv': venv)"
  }
 },
 "nbformat": 4,
 "nbformat_minor": 2,
 "cells": [
  {
   "cell_type": "code",
   "execution_count": 9,
   "metadata": {},
   "outputs": [],
   "source": [
    "from pyspark.sql import SparkSession\n",
    "from pyspark.sql.functions import col, to_timestamp, date_format, unix_timestamp, from_unixtime, to_date, split, ltrim\n",
    "\n",
    "import os\n",
    "import shutil\n",
    "import glob"
   ]
  },
  {
   "cell_type": "code",
   "execution_count": 10,
   "metadata": {},
   "outputs": [
    {
     "output_type": "execute_result",
     "data": {
      "text/plain": "DataFrame[key: string, value: string]"
     },
     "metadata": {},
     "execution_count": 10
    }
   ],
   "source": [
    "spark = SparkSession.builder.appName('Challenge 1').getOrCreate()\n",
    "spark.sql(\"set spark.sql.legacy.timeParserPolicy=LEGACY\")"
   ]
  },
  {
   "cell_type": "code",
   "execution_count": 11,
   "metadata": {},
   "outputs": [],
   "source": [
    "cons = spark.read.format(\"csv\").option(\"header\", \"true\").csv(\"./Exercise#1Data/cons.csv\", inferSchema=True)\n",
    "cons_email = spark.read.format(\"csv\").option(\"header\", \"true\").csv(\"./Exercise#1Data/cons_email.csv\", inferSchema=True)\n",
    "cons_email_chapter = spark.read.format(\"csv\").option(\"header\", \"true\").csv(\"./Exercise#1Data/cons_email_chapter_subscription.csv\", inferSchema=True)"
   ]
  },
  {
   "cell_type": "code",
   "execution_count": 12,
   "metadata": {
    "tags": []
   },
   "outputs": [],
   "source": [
    "j1 = cons_email.alias(\"E\").join(cons.alias('C'), col(\"E.cons_id\") == col(\"C.cons_id\"), 'left').selectExpr(\"E.email as email\", \"C.source as code\", \"C.create_dt as created_dt\", \"C.modified_dt as updated_dt\", \"E.cons_email_id as eid\")\n",
    "j2 = j1.alias('N').join(cons_email_chapter.alias('C'), col(\"N.eid\") == col(\"C.cons_email_id\"), 'left').where(col('C.chapter_id') == 1).selectExpr('N.*', 'C.isunsub as is_unsub')"
   ]
  },
  {
   "cell_type": "code",
   "execution_count": 13,
   "metadata": {
    "tags": []
   },
   "outputs": [],
   "source": [
    "def save_spark_df(df, file_path):\n",
    "    temp_path = file_path + 'temp'\n",
    "    df.coalesce(1).write.mode('overwrite').format('csv').option('header', 'true').save(temp_path)\n",
    "    os.rename(glob.glob(temp_path + '/*.csv')[0], file_path)\n",
    "    shutil.rmtree(temp_path)\n"
   ]
  },
  {
   "cell_type": "code",
   "execution_count": 14,
   "metadata": {},
   "outputs": [],
   "source": [
    "j3 = j2.withColumn('is_unsub', col('is_unsub').cast('boolean'))\n",
    "j3 = j3.withColumn('updated_dt', to_timestamp('updated_dt', 'EEE, yyyy-MM-dd HH:mm:ss'))\n",
    "j3 = j3.withColumn('created_dt', to_timestamp('created_dt', 'EEE, yyyy-MM-dd HH:mm:ss'))\n",
    "j3 = j3.drop('eid')\n",
    "\n",
    "save_spark_df(j3, 'people.csv')"
   ]
  },
  {
   "cell_type": "markdown",
   "metadata": {},
   "source": [
    "## Assumption\n",
    "\n",
    "It is assumed that `created_dt` is the date the constituent was acquired."
   ]
  },
  {
   "cell_type": "code",
   "execution_count": 15,
   "metadata": {},
   "outputs": [],
   "source": [
    "people = spark.read.format(\"csv\").option(\"header\", \"true\").csv(\"./people.csv\", inferSchema=True)"
   ]
  },
  {
   "cell_type": "code",
   "execution_count": 16,
   "metadata": {
    "tags": []
   },
   "outputs": [],
   "source": [
    "k = people.select(to_date('created_dt').alias('acquisition_date'))\n",
    "k = k.groupby('acquisition_date').count().selectExpr('acquisition_date', 'count as acquisitions').sort(col('acquisition_date').desc())\n",
    "\n",
    "save_spark_df(k, './acquisition_facts.csv')"
   ]
  }
 ]
}